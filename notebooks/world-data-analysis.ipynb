{
  "nbformat": 4,
  "nbformat_minor": 0,
  "metadata": {
    "colab": {
      "name": "world-data-analysis.ipynb",
      "version": "0.3.2",
      "provenance": [],
      "include_colab_link": true
    },
    "kernelspec": {
      "display_name": "Python 3",
      "language": "python",
      "name": "python3"
    }
  },
  "cells": [
    {
      "cell_type": "markdown",
      "metadata": {
        "id": "view-in-github",
        "colab_type": "text"
      },
      "source": [
        "<a href=\"https://colab.research.google.com/github/Rahulmisal27/DataScience/blob/master/world-data-analysis.ipynb\" target=\"_parent\"><img src=\"https://colab.research.google.com/assets/colab-badge.svg\" alt=\"Open In Colab\"/></a>"
      ]
    },
    {
      "metadata": {
        "_uuid": "8f2839f25d086af736a60e9eeb907d3b93b6e0e5",
        "_cell_guid": "b1076dfc-b9ad-4769-8c92-a6c4dae69d19",
        "trusted": true,
        "id": "NpmdhMZBpXXk",
        "colab_type": "code",
        "colab": {}
      },
      "cell_type": "code",
      "source": [
        "# This Python 3 environment comes with many helpful analytics libraries installed\n",
        "# It is defined by the kaggle/python docker image: https://github.com/kaggle/docker-python\n",
        "# For example, here's several helpful packages to load in \n",
        "\n",
        "import numpy as np # linear algebra\n",
        "import pandas as pd # data processing, CSV file I/O (e.g. pd.read_csv)\n",
        "\n",
        "# Input data files are available in the \"../input/\" directory.\n",
        "# For example, running this (by clicking run or pressing Shift+Enter) will list the files in the input directory\n",
        "\n",
        "import os\n",
        "print(os.listdir(\"../input\"))\n",
        "\n",
        "import matplotlib.pyplot as plt\n",
        "\n",
        "import os\n",
        "import math\n",
        "import decimal\n",
        "\n",
        "# Upload data from GitHub to notebook's local drive\n",
        "url = \"https://raw.githubusercontent.com/Rahulmisal27/DataScience/master/data/countries%20of%20the%20world.csv\"\n",
        "response = urllib.request.urlopen(url)\n",
        "html = response.read()\n",
        "\n",
        "with open(args.data_file, 'wb') as fp:\n",
        "    fp.write(html)\n",
        "data=pd.read_csv(args.data_file, header=0)\n",
        "Worlddata=pd.DataFrame(data)\n",
        "Worlddata.head(10)\n",
        "\n",
        "# Any results you write to the current directory are saved as output."
      ],
      "execution_count": 0,
      "outputs": []
    },
    {
      "metadata": {
        "_cell_guid": "79c7e3d0-c299-4dcb-8224-4455121ee9b0",
        "_uuid": "d629ff2d2480ee46fbb7e2d37f6b5fab8052498a",
        "trusted": true,
        "id": "28q144PCpXXu",
        "colab_type": "code",
        "colab": {}
      },
      "cell_type": "code",
      "source": [
        "Worlddata.info()"
      ],
      "execution_count": 0,
      "outputs": []
    },
    {
      "metadata": {
        "trusted": true,
        "_uuid": "924f0bba89a6b88003f08bc27155bee5666bafac",
        "id": "XWFfiUuYpXX0",
        "colab_type": "code",
        "colab": {}
      },
      "cell_type": "code",
      "source": [
        "Worlddata.describe()"
      ],
      "execution_count": 0,
      "outputs": []
    },
    {
      "metadata": {
        "trusted": true,
        "_uuid": "69f65d9851af213a862a36563637df7386e651a3",
        "id": "hKIUVv6VpXX4",
        "colab_type": "code",
        "colab": {}
      },
      "cell_type": "code",
      "source": [
        "sorts=Worlddata.sort_values(['GDP ($ per capita)'], ascending=False)\n",
        "sorts.head(10)"
      ],
      "execution_count": 0,
      "outputs": []
    },
    {
      "metadata": {
        "trusted": true,
        "_uuid": "22e6541858f0bc70f4d3d1440e4d451ca1bc4040",
        "id": "igMRQJIPpXX7",
        "colab_type": "code",
        "colab": {}
      },
      "cell_type": "code",
      "source": [
        "plt.figure(figure_size=(14,6)"
      ],
      "execution_count": 0,
      "outputs": []
    },
    {
      "metadata": {
        "trusted": true,
        "_uuid": "8408c8b70ae79975e1641da5bcb99ed46b164db4",
        "id": "q_J4zciHpXX-",
        "colab_type": "code",
        "colab": {}
      },
      "cell_type": "code",
      "source": [
        "plt.figure(figsize=(20,10))\n",
        "%matplotlib inline"
      ],
      "execution_count": 0,
      "outputs": []
    },
    {
      "metadata": {
        "trusted": true,
        "_uuid": "d040e6318bde8cdd29c53aa48cf67281bdb56267",
        "id": "lSt0BdHgpXYC",
        "colab_type": "code",
        "colab": {}
      },
      "cell_type": "code",
      "source": [
        "import seaborn as sns  \n",
        "sns.barplot(x='Country',y='GDP ($ per capita)',data=Worlddata[:10])"
      ],
      "execution_count": 0,
      "outputs": []
    },
    {
      "metadata": {
        "trusted": true,
        "_uuid": "35fb71e69cf770c8069d47a138660d9207ca71c6",
        "id": "KmdopUfIpXYG",
        "colab_type": "code",
        "colab": {}
      },
      "cell_type": "code",
      "source": [
        "Worlddata.info()"
      ],
      "execution_count": 0,
      "outputs": []
    },
    {
      "metadata": {
        "trusted": true,
        "_uuid": "561d25491cf8eef3cdfc1710d2200560a5f660ad",
        "id": "jWp5O4U8pXYK",
        "colab_type": "code",
        "colab": {}
      },
      "cell_type": "code",
      "source": [
        "Worlddata['Density'] = Worlddata['Pop. Density (per sq. mi.)']\n",
        "Worlddata['coastline'] = Worlddata['Coastline (coast/area ratio)'] \n",
        "Worlddata['migration'] = Worlddata['Net migration']\n",
        "Worlddata['infant_mortality'] = Worlddata['Infant mortality (per 1000 births)']\n",
        "Worlddata['literacy'] = Worlddata['Literacy (%)']\n",
        "Worlddata['phones'] = Worlddata['Phones (per 1000)']\n",
        "Worlddata['arable'] = Worlddata['Arable (%)']\n",
        "Worlddata['crops'] = Worlddata['Crops (%)']\n",
        "Worlddata['other'] = Worlddata['Other (%)']"
      ],
      "execution_count": 0,
      "outputs": []
    },
    {
      "metadata": {
        "trusted": true,
        "_uuid": "e46e01684ca643bd8e593425dd476052a73ef354",
        "id": "JSKzfrM2pXYP",
        "colab_type": "code",
        "colab": {}
      },
      "cell_type": "code",
      "source": [
        "Worlddata.country = Worlddata.Country.astype('category')\n",
        "Worlddata.region = Worlddata.Region.astype('category')\n",
        "Worlddata.density = Worlddata.Density.str.replace(\",\",\".\").astype(float)\n",
        "Worlddata.coastline = Worlddata.coastline.str.replace(\",\",\".\").astype(float)\n",
        "Worlddata.migration = Worlddata.migration.str.replace(\",\",\".\").astype(float)\n",
        "Worlddata.infant_mortality = Worlddata.infant_mortality.str.replace(\",\",\".\").astype(float)\n",
        "Worlddata.literacy = Worlddata.literacy.str.replace(\",\",\".\").astype(float)\n",
        "Worlddata.phones = Worlddata.phones.str.replace(\",\",\".\").astype(float)\n",
        "Worlddata.arable = Worlddata.arable.str.replace(\",\",\".\").astype(float)\n",
        "Worlddata.crops = Worlddata.crops.str.replace(\",\",\".\").astype(float)\n",
        "Worlddata.other = Worlddata.other.str.replace(\",\",\".\").astype(float)\n",
        "Worlddata.climate = Worlddata.Climate.str.replace(\",\",\".\").astype(float)\n",
        "Worlddata.birthrate = Worlddata.Birthrate.str.replace(\",\",\".\").astype(float)\n",
        "Worlddata.deathrate = Worlddata.Deathrate.str.replace(\",\",\".\").astype(float)\n",
        "Worlddata.agriculture = Worlddata.Agriculture.str.replace(\",\",\".\").astype(float)\n",
        "Worlddata.industry = Worlddata.Industry.str.replace(\",\",\".\").astype(float)\n",
        "Worlddata.service = Worlddata.Service.str.replace(\",\",\".\").astype(float)"
      ],
      "execution_count": 0,
      "outputs": []
    },
    {
      "metadata": {
        "trusted": true,
        "_uuid": "c4d8b4a24806202e26aa84992fea5ca15d345b88",
        "id": "-q_aUYY6pXYW",
        "colab_type": "code",
        "colab": {}
      },
      "cell_type": "code",
      "source": [
        "Worlddata.head()"
      ],
      "execution_count": 0,
      "outputs": []
    },
    {
      "metadata": {
        "trusted": true,
        "_uuid": "6bda03a1b8bccec3d41f920a3172292e601b1b4f",
        "id": "J45kobWtpXYZ",
        "colab_type": "code",
        "colab": {}
      },
      "cell_type": "code",
      "source": [
        "Worlddata.info()"
      ],
      "execution_count": 0,
      "outputs": []
    },
    {
      "metadata": {
        "trusted": true,
        "_uuid": "4aebdcaa36d0c6ddb797b6a1bd1c0804765bbda2",
        "id": "SnuMaY4fpXYc",
        "colab_type": "code",
        "colab": {}
      },
      "cell_type": "code",
      "source": [
        "x = Worlddata.loc[:,[\"Region\",\"GDP ($ per capita)\",\"infant_mortality\",\"Birthrate\",\"phones\",\"literacy\",\"Service\"]]\n",
        "sns.pairplot(x,hue=\"Region\",palette=\"inferno\")\n"
      ],
      "execution_count": 0,
      "outputs": []
    },
    {
      "metadata": {
        "trusted": true,
        "_uuid": "8a9b8f4cdf909a36d3b90f2f648ec574cb9f4347",
        "id": "u03ztnIbpXYg",
        "colab_type": "code",
        "colab": {}
      },
      "cell_type": "code",
      "source": [
        "Worlddata.plot(kind='scatter',x='infant_mortality'.y='')"
      ],
      "execution_count": 0,
      "outputs": []
    },
    {
      "metadata": {
        "trusted": true,
        "_uuid": "eee2432b5c086c131be05e0a1f03f296d1132d56",
        "id": "Tt4q0nV8pXYj",
        "colab_type": "code",
        "colab": {}
      },
      "cell_type": "code",
      "source": [
        ""
      ],
      "execution_count": 0,
      "outputs": []
    }
  ]
}